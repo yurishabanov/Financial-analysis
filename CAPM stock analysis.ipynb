{
 "cells": [
  {
   "cell_type": "code",
   "execution_count": 53,
   "id": "0e99ae27",
   "metadata": {},
   "outputs": [],
   "source": [
    "import yfinance as yf\n",
    "import pandas as pd\n",
    "from yahoofinancials import YahooFinancials\n",
    "from datetime import date, timedelta\n",
    "import pandas as pd\n",
    "import numpy as np\n",
    "import matplotlib.pyplot as plt"
   ]
  },
  {
   "cell_type": "code",
   "execution_count": 25,
   "id": "fcd31b46",
   "metadata": {},
   "outputs": [
    {
     "data": {
      "text/html": [
       "<div>\n",
       "<style scoped>\n",
       "    .dataframe tbody tr th:only-of-type {\n",
       "        vertical-align: middle;\n",
       "    }\n",
       "\n",
       "    .dataframe tbody tr th {\n",
       "        vertical-align: top;\n",
       "    }\n",
       "\n",
       "    .dataframe thead th {\n",
       "        text-align: right;\n",
       "    }\n",
       "</style>\n",
       "<table border=\"1\" class=\"dataframe\">\n",
       "  <thead>\n",
       "    <tr style=\"text-align: right;\">\n",
       "      <th></th>\n",
       "      <th>Ticker</th>\n",
       "      <th>Industry</th>\n",
       "      <th>Beta</th>\n",
       "    </tr>\n",
       "  </thead>\n",
       "  <tbody>\n",
       "    <tr>\n",
       "      <th>0</th>\n",
       "      <td>V</td>\n",
       "      <td>Credit Services</td>\n",
       "      <td>NaN</td>\n",
       "    </tr>\n",
       "    <tr>\n",
       "      <th>1</th>\n",
       "      <td>C</td>\n",
       "      <td>Banks—Diversified</td>\n",
       "      <td>1.793208</td>\n",
       "    </tr>\n",
       "    <tr>\n",
       "      <th>2</th>\n",
       "      <td>UAL</td>\n",
       "      <td>Airlines</td>\n",
       "      <td>1.473390</td>\n",
       "    </tr>\n",
       "    <tr>\n",
       "      <th>3</th>\n",
       "      <td>WDC</td>\n",
       "      <td>Computer Hardware</td>\n",
       "      <td>1.535225</td>\n",
       "    </tr>\n",
       "    <tr>\n",
       "      <th>4</th>\n",
       "      <td>BAC</td>\n",
       "      <td>Banks—Diversified</td>\n",
       "      <td>1.491130</td>\n",
       "    </tr>\n",
       "    <tr>\n",
       "      <th>5</th>\n",
       "      <td>CMCSA</td>\n",
       "      <td>Entertainment</td>\n",
       "      <td>0.944247</td>\n",
       "    </tr>\n",
       "    <tr>\n",
       "      <th>6</th>\n",
       "      <td>KO</td>\n",
       "      <td>Beverages—Non-Alcoholic</td>\n",
       "      <td>0.712113</td>\n",
       "    </tr>\n",
       "    <tr>\n",
       "      <th>7</th>\n",
       "      <td>PFE</td>\n",
       "      <td>Drug Manufacturers—General</td>\n",
       "      <td>0.642676</td>\n",
       "    </tr>\n",
       "  </tbody>\n",
       "</table>\n",
       "</div>"
      ],
      "text/plain": [
       "  Ticker                    Industry      Beta\n",
       "0      V             Credit Services       NaN\n",
       "1      C           Banks—Diversified  1.793208\n",
       "2    UAL                    Airlines  1.473390\n",
       "3    WDC           Computer Hardware  1.535225\n",
       "4    BAC           Banks—Diversified  1.491130\n",
       "5  CMCSA               Entertainment  0.944247\n",
       "6     KO     Beverages—Non-Alcoholic  0.712113\n",
       "7    PFE  Drug Manufacturers—General  0.642676"
      ]
     },
     "execution_count": 25,
     "metadata": {},
     "output_type": "execute_result"
    }
   ],
   "source": [
    "stocks = ['V', 'C', 'UAL', 'WDC', 'BAC', 'CMCSA', 'KO', 'PFE']\n",
    "\n",
    "my_columns = ['Ticker', 'Industry', 'Beta']\n",
    "data = pd.DataFrame(columns = my_columns)\n",
    "data = pd.DataFrame()\n",
    "\n",
    "#extraction of beta data\n",
    "for stock in stocks: \n",
    "    info = yf.Ticker(stock).info\n",
    "    industry = info.get('industry')\n",
    "    beta = info.get('beta')\n",
    "    data = data.append(\n",
    "                   pd.Series([stock, industry, beta],\n",
    "                            index = my_columns), ignore_index = True) \n",
    "data"
   ]
  },
  {
   "cell_type": "code",
   "execution_count": 30,
   "id": "c25da614",
   "metadata": {},
   "outputs": [
    {
     "data": {
      "text/html": [
       "<div>\n",
       "<style scoped>\n",
       "    .dataframe tbody tr th:only-of-type {\n",
       "        vertical-align: middle;\n",
       "    }\n",
       "\n",
       "    .dataframe tbody tr th {\n",
       "        vertical-align: top;\n",
       "    }\n",
       "\n",
       "    .dataframe thead th {\n",
       "        text-align: right;\n",
       "    }\n",
       "</style>\n",
       "<table border=\"1\" class=\"dataframe\">\n",
       "  <thead>\n",
       "    <tr style=\"text-align: right;\">\n",
       "      <th></th>\n",
       "      <th>Ticker</th>\n",
       "      <th>Industry</th>\n",
       "      <th>Beta</th>\n",
       "      <th>E[R]</th>\n",
       "    </tr>\n",
       "  </thead>\n",
       "  <tbody>\n",
       "    <tr>\n",
       "      <th>0</th>\n",
       "      <td>V</td>\n",
       "      <td>Credit Services</td>\n",
       "      <td>NaN</td>\n",
       "      <td>NaN</td>\n",
       "    </tr>\n",
       "    <tr>\n",
       "      <th>1</th>\n",
       "      <td>C</td>\n",
       "      <td>Banks—Diversified</td>\n",
       "      <td>1.793208</td>\n",
       "      <td>11.642644</td>\n",
       "    </tr>\n",
       "    <tr>\n",
       "      <th>2</th>\n",
       "      <td>UAL</td>\n",
       "      <td>Airlines</td>\n",
       "      <td>1.473390</td>\n",
       "      <td>9.883645</td>\n",
       "    </tr>\n",
       "    <tr>\n",
       "      <th>3</th>\n",
       "      <td>WDC</td>\n",
       "      <td>Computer Hardware</td>\n",
       "      <td>1.535225</td>\n",
       "      <td>10.223738</td>\n",
       "    </tr>\n",
       "    <tr>\n",
       "      <th>4</th>\n",
       "      <td>BAC</td>\n",
       "      <td>Banks—Diversified</td>\n",
       "      <td>1.491130</td>\n",
       "      <td>9.981215</td>\n",
       "    </tr>\n",
       "    <tr>\n",
       "      <th>5</th>\n",
       "      <td>CMCSA</td>\n",
       "      <td>Entertainment</td>\n",
       "      <td>0.944247</td>\n",
       "      <td>6.973358</td>\n",
       "    </tr>\n",
       "    <tr>\n",
       "      <th>6</th>\n",
       "      <td>KO</td>\n",
       "      <td>Beverages—Non-Alcoholic</td>\n",
       "      <td>0.712113</td>\n",
       "      <td>5.696622</td>\n",
       "    </tr>\n",
       "    <tr>\n",
       "      <th>7</th>\n",
       "      <td>PFE</td>\n",
       "      <td>Drug Manufacturers—General</td>\n",
       "      <td>0.642676</td>\n",
       "      <td>5.314718</td>\n",
       "    </tr>\n",
       "  </tbody>\n",
       "</table>\n",
       "</div>"
      ],
      "text/plain": [
       "  Ticker                    Industry      Beta       E[R]\n",
       "0      V             Credit Services       NaN        NaN\n",
       "1      C           Banks—Diversified  1.793208  11.642644\n",
       "2    UAL                    Airlines  1.473390   9.883645\n",
       "3    WDC           Computer Hardware  1.535225  10.223738\n",
       "4    BAC           Banks—Diversified  1.491130   9.981215\n",
       "5  CMCSA               Entertainment  0.944247   6.973358\n",
       "6     KO     Beverages—Non-Alcoholic  0.712113   5.696622\n",
       "7    PFE  Drug Manufacturers—General  0.642676   5.314718"
      ]
     },
     "execution_count": 30,
     "metadata": {},
     "output_type": "execute_result"
    }
   ],
   "source": [
    "### MRP AND RF ARE TO BE UPDATED PRIOR TO RUNNING THE CODE!!!!!!!!!!!!!\n",
    "\n",
    "mrp = 5.5 #market risk premium\n",
    "rf = 1.78 #risk free rate of return\n",
    "returns = []\n",
    "for beta in data['Beta']:\n",
    "    try:\n",
    "        returns.append(rf + beta * mrp)\n",
    "    except:\n",
    "        returns.append('')\n",
    "        \n",
    "data['E[R]'] = returns\n",
    "data\n",
    "#creation of dataframe with data for ticker, industry of the comapny return estimated\n",
    "#beta and the expected return"
   ]
  },
  {
   "cell_type": "code",
   "execution_count": 43,
   "id": "1adcee78",
   "metadata": {},
   "outputs": [],
   "source": [
    "def volatility(ticker):\n",
    "    '''\n",
    "    A function calculates daily volatility based on previous annum day volatilities availible\n",
    "    Input variables: ticker (string variable which defines the ticker of stock you want to have volatility of)\n",
    "    Output variables: float variable of annual average daily volatility\n",
    "    '''\n",
    "    # set stock ticker symbol\n",
    "    stock_symbol = ticker\n",
    "\n",
    "    # set date range for historical prices\n",
    "    end_time = date.today()\n",
    "    start_time = end_time - timedelta(days=365)\n",
    "\n",
    "    # reformat date range\n",
    "    end = end_time.strftime('%Y-%m-%d')\n",
    "    start = start_time.strftime('%Y-%m-%d')\n",
    "\n",
    "    # get daily stock prices over date range\n",
    "    json_prices = YahooFinancials(stock_symbol\n",
    "    ).get_historical_price_data(start, end, 'daily')\n",
    "    prices = pd.DataFrame(json_prices[stock_symbol]\n",
    "    ['prices'])[['formatted_date', 'close']]\n",
    "\n",
    "    # sort dates in descending order\n",
    "    prices.sort_index(ascending=False, inplace=True)\n",
    "    # calculate daily logarithmic return\n",
    "    prices['returns'] = (np.log(prices.close /\n",
    "    prices.close.shift(-1)))\n",
    "\n",
    "    # calculate daily standard deviation of returns\n",
    "    daily_std = np.std(prices.returns)\n",
    "\n",
    "    # annualized daily standard deviation\n",
    "    std = daily_std * 252 ** 0.5\n",
    "    return std"
   ]
  },
  {
   "cell_type": "code",
   "execution_count": 47,
   "id": "6a94814c",
   "metadata": {},
   "outputs": [
    {
     "data": {
      "text/html": [
       "<div>\n",
       "<style scoped>\n",
       "    .dataframe tbody tr th:only-of-type {\n",
       "        vertical-align: middle;\n",
       "    }\n",
       "\n",
       "    .dataframe tbody tr th {\n",
       "        vertical-align: top;\n",
       "    }\n",
       "\n",
       "    .dataframe thead th {\n",
       "        text-align: right;\n",
       "    }\n",
       "</style>\n",
       "<table border=\"1\" class=\"dataframe\">\n",
       "  <thead>\n",
       "    <tr style=\"text-align: right;\">\n",
       "      <th></th>\n",
       "      <th>Ticker</th>\n",
       "      <th>Industry</th>\n",
       "      <th>Beta</th>\n",
       "      <th>E[R]</th>\n",
       "      <th>Volatility</th>\n",
       "    </tr>\n",
       "  </thead>\n",
       "  <tbody>\n",
       "    <tr>\n",
       "      <th>0</th>\n",
       "      <td>V</td>\n",
       "      <td>Credit Services</td>\n",
       "      <td>NaN</td>\n",
       "      <td>NaN</td>\n",
       "      <td>0.239976</td>\n",
       "    </tr>\n",
       "    <tr>\n",
       "      <th>1</th>\n",
       "      <td>C</td>\n",
       "      <td>Banks—Diversified</td>\n",
       "      <td>1.793208</td>\n",
       "      <td>11.642644</td>\n",
       "      <td>0.243099</td>\n",
       "    </tr>\n",
       "    <tr>\n",
       "      <th>2</th>\n",
       "      <td>UAL</td>\n",
       "      <td>Airlines</td>\n",
       "      <td>1.473390</td>\n",
       "      <td>9.883645</td>\n",
       "      <td>0.436829</td>\n",
       "    </tr>\n",
       "    <tr>\n",
       "      <th>3</th>\n",
       "      <td>WDC</td>\n",
       "      <td>Computer Hardware</td>\n",
       "      <td>1.535225</td>\n",
       "      <td>10.223738</td>\n",
       "      <td>0.416919</td>\n",
       "    </tr>\n",
       "    <tr>\n",
       "      <th>4</th>\n",
       "      <td>BAC</td>\n",
       "      <td>Banks—Diversified</td>\n",
       "      <td>1.491130</td>\n",
       "      <td>9.981215</td>\n",
       "      <td>0.250157</td>\n",
       "    </tr>\n",
       "    <tr>\n",
       "      <th>5</th>\n",
       "      <td>CMCSA</td>\n",
       "      <td>Entertainment</td>\n",
       "      <td>0.944247</td>\n",
       "      <td>6.973358</td>\n",
       "      <td>0.228802</td>\n",
       "    </tr>\n",
       "    <tr>\n",
       "      <th>6</th>\n",
       "      <td>KO</td>\n",
       "      <td>Beverages—Non-Alcoholic</td>\n",
       "      <td>0.712113</td>\n",
       "      <td>5.696622</td>\n",
       "      <td>0.139773</td>\n",
       "    </tr>\n",
       "    <tr>\n",
       "      <th>7</th>\n",
       "      <td>PFE</td>\n",
       "      <td>Drug Manufacturers—General</td>\n",
       "      <td>0.642676</td>\n",
       "      <td>5.314718</td>\n",
       "      <td>0.269019</td>\n",
       "    </tr>\n",
       "  </tbody>\n",
       "</table>\n",
       "</div>"
      ],
      "text/plain": [
       "  Ticker                    Industry      Beta       E[R]  Volatility\n",
       "0      V             Credit Services       NaN        NaN    0.239976\n",
       "1      C           Banks—Diversified  1.793208  11.642644    0.243099\n",
       "2    UAL                    Airlines  1.473390   9.883645    0.436829\n",
       "3    WDC           Computer Hardware  1.535225  10.223738    0.416919\n",
       "4    BAC           Banks—Diversified  1.491130   9.981215    0.250157\n",
       "5  CMCSA               Entertainment  0.944247   6.973358    0.228802\n",
       "6     KO     Beverages—Non-Alcoholic  0.712113   5.696622    0.139773\n",
       "7    PFE  Drug Manufacturers—General  0.642676   5.314718    0.269019"
      ]
     },
     "execution_count": 47,
     "metadata": {},
     "output_type": "execute_result"
    }
   ],
   "source": [
    "#calculate volatilities\n",
    "vol = []\n",
    "for i in range(len(data)):\n",
    "    try:\n",
    "        vol.append(volatility(data['Ticker'][i]))\n",
    "    except:\n",
    "        vol.append('')\n",
    "data['Volatility'] = vol\n",
    "data"
   ]
  },
  {
   "cell_type": "code",
   "execution_count": 68,
   "id": "40ecc406",
   "metadata": {},
   "outputs": [
    {
     "data": {
      "text/plain": [
       "Text(0.5, 1.0, 'CAPM predictions on stocks expected returns and volatilitites')"
      ]
     },
     "execution_count": 68,
     "metadata": {},
     "output_type": "execute_result"
    },
    {
     "data": {
      "image/png": "[encoded data removed]",
      "text/plain": [
       "<Figure size 432x288 with 1 Axes>"
      ]
     },
     "metadata": {
      "needs_background": "light"
     },
     "output_type": "display_data"
    }
   ],
   "source": [
    "z = list(data['Volatility'][1:])\n",
    "y = list(data['E[R]'][1:])\n",
    "n = list(data['Ticker'][1:])\n",
    "\n",
    "fig, ax = plt.subplots()\n",
    "ax.scatter(z, y)\n",
    "\n",
    "for i, txt in enumerate(n):\n",
    "    ax.annotate(txt, (z[i], y[i]))\n",
    "plt.xlabel('Volatility, %')\n",
    "plt.ylabel('Expected return, %')\n",
    "plt.title('CAPM predictions on stocks expected returns and volatilitites')\n"
   ]
  },
  {
   "cell_type": "code",
   "execution_count": 61,
   "id": "c1d0eb41",
   "metadata": {},
   "outputs": [
    {
     "name": "stderr",
     "output_type": "stream",
     "text": [
      "/Users/yurishabanov/opt/anaconda3/lib/python3.9/site-packages/seaborn/_decorators.py:36: FutureWarning: Pass the following variables as keyword args: x, y. From version 0.12, the only valid positional argument will be `data`, and passing other arguments without an explicit keyword will result in an error or misinterpretation.\n",
      "  warnings.warn(\n"
     ]
    },
    {
     "data": {
      "image/png": "[encoded data removed]",
      "text/plain": [
       "<Figure size 545.625x360 with 1 Axes>"
      ]
     },
     "metadata": {
      "needs_background": "light"
     },
     "output_type": "display_data"
    }
   ],
   "source": [
    "import seaborn as sns\n",
    "sns.lmplot('Volatility', 'E[R]', data=data, hue='Industry', fit_reg=False)\n",
    "plt.text(df.G[df.Team=='TOT'],df.GA[df.Team=='TOT'],\"TOT\", color='red')"
   ]
  },
  {
   "cell_type": "code",
   "execution_count": 66,
   "id": "de598278",
   "metadata": {},
   "outputs": [
    {
     "data": {
      "text/plain": [
       "<AxesSubplot:xlabel='Volatility', ylabel='E[R]'>"
      ]
     },
     "execution_count": 66,
     "metadata": {},
     "output_type": "execute_result"
    },
    {
     "data": {
      "image/png": "[encoded data removed]",
      "text/plain": [
       "<Figure size 432x288 with 1 Axes>"
      ]
     },
     "metadata": {
      "needs_background": "light"
     },
     "output_type": "display_data"
    }
   ],
   "source": [
    "sns.scatterplot(data = data, x = 'Volatility', y = 'E[R]',\n",
    "               hue = 'Industry',\n",
    "               markers = True,\n",
    "               style = 'Ticker')"
   ]
  },
  {
   "cell_type": "code",
   "execution_count": null,
   "id": "b964f8e3",
   "metadata": {},
   "outputs": [],
   "source": []
  }
 ],
 "metadata": {
  "kernelspec": {
   "display_name": "Python 3 (ipykernel)",
   "language": "python",
   "name": "python3"
  },
  "language_info": {
   "codemirror_mode": {
    "name": "ipython",
    "version": 3
   },
   "file_extension": ".py",
   "mimetype": "text/x-python",
   "name": "python",
   "nbconvert_exporter": "python",
   "pygments_lexer": "ipython3",
   "version": "3.9.7"
  }
 },
 "nbformat": 4,
 "nbformat_minor": 5
}
